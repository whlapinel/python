{
 "cells": [
  {
   "cell_type": "markdown",
   "metadata": {
    "vscode": {
     "languageId": "plaintext"
    }
   },
   "source": [
    "Create a DataFrame with the following data:\n",
    "\n",
    "```python\n",
    "Name        Department    Salary\n",
    "John        HR            50000\n",
    "Alice       IT            75000\n",
    "Bob         IT            70000\n",
    "Sarah       Marketing     60000\n",
    "Mike        HR            55000\n",
    "```\n",
    "\n",
    "Using pandas, answer these questions:\n",
    "\n",
    "- What is the average salary for each department?\n",
    "- Who has the highest salary?\n",
    "- Filter the employees with a salary greater than 60,000.\n",
    "- Make a bar chart"
   ]
  },
  {
   "cell_type": "code",
   "execution_count": null,
   "metadata": {},
   "outputs": [
    {
     "data": {
      "text/plain": [
       "Department\n",
       "HR           52500.0\n",
       "IT           72500.0\n",
       "Marketing    60000.0\n",
       "Name: Salary, dtype: float64"
      ]
     },
     "execution_count": 4,
     "metadata": {},
     "output_type": "execute_result"
    }
   ],
   "source": [
    "import pandas as pd\n",
    "\n",
    "data = {\n",
    "    \"Name\": [\"John\", \"Alice\", \"Bob\", \"Sarah\", \"Mike\"],\n",
    "    \"Department\": [\"HR\", \"IT\", \"IT\", \"Marketing\", \"HR\"],\n",
    "    \"Salary\": [50000, 75000, 70000, 60000, 55000]\n",
    "}\n",
    "\n",
    "df = pd.DataFrame(data)\n",
    "\n",
    "dept_groups = df.groupby(['Department'])\n",
    "\n",
    "dept_groups['Salary'].mean()\n",
    "\n"
   ]
  }
 ],
 "metadata": {
  "kernelspec": {
   "display_name": "Python 3",
   "language": "python",
   "name": "python3"
  },
  "language_info": {
   "codemirror_mode": {
    "name": "ipython",
    "version": 3
   },
   "file_extension": ".py",
   "mimetype": "text/x-python",
   "name": "python",
   "nbconvert_exporter": "python",
   "pygments_lexer": "ipython3",
   "version": "3.10.12"
  }
 },
 "nbformat": 4,
 "nbformat_minor": 2
}
